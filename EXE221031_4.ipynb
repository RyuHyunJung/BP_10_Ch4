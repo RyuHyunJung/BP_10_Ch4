{
  "nbformat": 4,
  "nbformat_minor": 0,
  "metadata": {
    "colab": {
      "provenance": [],
      "authorship_tag": "ABX9TyO9x44J49SVJnyVneKxdDft",
      "include_colab_link": true
    },
    "kernelspec": {
      "name": "python3",
      "display_name": "Python 3"
    },
    "language_info": {
      "name": "python"
    }
  },
  "cells": [
    {
      "cell_type": "markdown",
      "metadata": {
        "id": "view-in-github",
        "colab_type": "text"
      },
      "source": [
        "<a href=\"https://colab.research.google.com/github/RyuHyunJung/BP_10_Ch4/blob/main/EXE221031_4.ipynb\" target=\"_parent\"><img src=\"https://colab.research.google.com/assets/colab-badge.svg\" alt=\"Open In Colab\"/></a>"
      ]
    },
    {
      "cell_type": "code",
      "execution_count": 10,
      "metadata": {
        "colab": {
          "base_uri": "https://localhost:8080/"
        },
        "id": "jBUXmjBWrS7o",
        "outputId": "d0f7e00c-1ffe-415b-a0cf-8f11aa7b2faf"
      },
      "outputs": [
        {
          "output_type": "stream",
          "name": "stdout",
          "text": [
            "나는 12개의 사과를 먹었다.\n"
          ]
        }
      ],
      "source": [
        "print(\"나는 \" + str(12) + \"개의 사과를 먹었다.\")"
      ]
    },
    {
      "cell_type": "code",
      "source": [
        "'apple' + 'grape'"
      ],
      "metadata": {
        "colab": {
          "base_uri": "https://localhost:8080/",
          "height": 36
        },
        "id": "PdtWd7HztZI-",
        "outputId": "5efb52ef-ea82-4991-a4b1-27aee929cf39"
      },
      "execution_count": 17,
      "outputs": [
        {
          "output_type": "execute_result",
          "data": {
            "text/plain": [
              "'applegrape'"
            ],
            "application/vnd.google.colaboratory.intrinsic+json": {
              "type": "string"
            }
          },
          "metadata": {},
          "execution_count": 17
        }
      ]
    },
    {
      "cell_type": "code",
      "source": [
        "'apple' * 3"
      ],
      "metadata": {
        "colab": {
          "base_uri": "https://localhost:8080/",
          "height": 36
        },
        "id": "tlxbCbVBt9aU",
        "outputId": "ef845b57-8f8f-46aa-b794-73172154cc6f"
      },
      "execution_count": 18,
      "outputs": [
        {
          "output_type": "execute_result",
          "data": {
            "text/plain": [
              "'appleappleapple'"
            ],
            "application/vnd.google.colaboratory.intrinsic+json": {
              "type": "string"
            }
          },
          "metadata": {},
          "execution_count": 18
        }
      ]
    },
    {
      "cell_type": "code",
      "source": [
        "s = input(\"문자열을 입력하시오 : \")\n",
        "\n",
        "print(s[0:2] + s[-2:])"
      ],
      "metadata": {
        "colab": {
          "base_uri": "https://localhost:8080/"
        },
        "id": "iIrV9A-LuDAk",
        "outputId": "c205c780-5291-4bb3-8337-0968baa8b32b"
      },
      "execution_count": 20,
      "outputs": [
        {
          "output_type": "stream",
          "name": "stdout",
          "text": [
            "문자열을 입력하시오 : python\n",
            "pyon\n"
          ]
        }
      ]
    },
    {
      "cell_type": "code",
      "source": [
        "x = input(\"문자열을 입력하시오 : \")\n",
        "\n",
        "print(x + \"하는 중\")"
      ],
      "metadata": {
        "colab": {
          "base_uri": "https://localhost:8080/"
        },
        "id": "Ise-np5dv7gk",
        "outputId": "2ef5b8b4-604b-48ac-cb55-ea45fe7fc708"
      },
      "execution_count": 21,
      "outputs": [
        {
          "output_type": "stream",
          "name": "stdout",
          "text": [
            "문자열을 입력하시오 : 청소\n",
            "청소하는 중\n"
          ]
        }
      ]
    },
    {
      "cell_type": "code",
      "source": [
        "x = input(\"기호를 입력하시오 : \")\n",
        "middle = input(\"중간에 삽입할 문자열을 입력하시오 : \")\n",
        "\n",
        "print(x[0] + middle + x[1])"
      ],
      "metadata": {
        "colab": {
          "base_uri": "https://localhost:8080/"
        },
        "id": "3shrQpPAwPlJ",
        "outputId": "23f8e153-c21d-4989-8cf3-257e8f30b4ef"
      },
      "execution_count": 22,
      "outputs": [
        {
          "output_type": "stream",
          "name": "stdout",
          "text": [
            "기호를 입력하시오 : []\n",
            "중간에 삽입할 문자열을 입력하시오 : python\n",
            "[python]\n"
          ]
        }
      ]
    },
    {
      "cell_type": "code",
      "source": [
        "list = [1, 2, 3, 4]\n",
        "sum = list[0] + list[1] + list[2] + list[3]\n",
        "\n",
        "print(\"리스트 =\", list)\n",
        "print(\"리스트 숫자들의 합 = \",sum)"
      ],
      "metadata": {
        "colab": {
          "base_uri": "https://localhost:8080/"
        },
        "id": "KafBymkSxDXg",
        "outputId": "4c7158e5-22e7-40cc-aa12-c3f7f9b1fb92"
      },
      "execution_count": 23,
      "outputs": [
        {
          "output_type": "stream",
          "name": "stdout",
          "text": [
            "리스트 = [1, 2, 3, 4]\n",
            "리스트 숫자들의 합 =  10\n"
          ]
        }
      ]
    },
    {
      "cell_type": "code",
      "source": [
        ">>> import turtle\n",
        ">>> t = turtle.Turtle()\n",
        ">>> t.shape(\"turtle\")\n",
        ">>> \n",
        ">>> color_list = [\"yellow\", \"red\", \"blue\"]    #리스트를 사용하여 색상을 문자열로 저장한다.\n",
        ">>> \n",
        ">>> t.fillcolor(color_list[0])                #채우기 색상을 설정한다.\n",
        ">>> t.begin_fill()                            #채우기를 시작한다.\n",
        ">>> t.circle(100)                             #속이 채워진 원이 그려진다.\n",
        ">>> t.end_fill()                              #채우기를 종료한다.\n",
        ">>> \n",
        ">>> t.forward(200)\n",
        ">>> t.fillcolor(color_list[1])\n",
        ">>> t.begin_fill()\n",
        ">>> t.circle(100)\n",
        ">>> t.end_fill()\n",
        ">>> \n",
        ">>> t.forward(200)\n",
        ">>> t.fillcolor(color_list[2])\n",
        ">>> t.begin_fill()\n",
        ">>> t.circle(100)\n",
        ">>> t.end_fill()"
      ],
      "metadata": {
        "id": "jSxaQsP4yTux"
      },
      "execution_count": null,
      "outputs": []
    },
    {
      "cell_type": "code",
      "source": [
        ">>> import turtle\n",
        ">>> t = turtle.Turtle()\n",
        ">>> t.shape(\"turtle\")\n",
        ">>> \n",
        ">>> list = []\n",
        ">>> \n",
        ">>> x1 = int(input(\"x1 : \"))\n",
        "x1 : 0\n",
        ">>> list.append(x1)\n",
        ">>> y1 = int(input(\"y1 : \"))\n",
        "y1 : 0\n",
        ">>> list.append(y1)\n",
        ">>> \n",
        ">>> x2 = int(input(\"x2 : \"))\n",
        "x2 : 100\n",
        ">>> list.append(x2)\n",
        ">>> y2 = int(input(\"y2 : \"))\n",
        "y2 : 100\n",
        ">>> list.append(y2)\n",
        ">>> \n",
        ">>> x3 = int(input(\"x3 : \"))\n",
        "x3 : 200\n",
        ">>> list.append(x3)\n",
        ">>> y3 = int(input(\"y3 : \"))\n",
        "y3 : 100\n",
        ">>> list.append(y3)\n",
        ">>> \n",
        ">>> t.goto(list[0], list[1])\n",
        ">>> t.goto(list[2], list[3])\n",
        ">>> t.goto(list[4], list[5])"
      ],
      "metadata": {
        "id": "kDpawz4l5N0-"
      },
      "execution_count": null,
      "outputs": []
    }
  ]
}